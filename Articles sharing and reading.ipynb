{
 "cells": [
  {
   "cell_type": "code",
   "execution_count": 84,
   "metadata": {},
   "outputs": [],
   "source": [
    "import pandas as pd\n",
    "import numpy as np\n",
    "import math"
   ]
  },
  {
   "cell_type": "code",
   "execution_count": 85,
   "id": "e8dd65c0",
   "metadata": {},
   "outputs": [],
   "source": [
    "articles = pd.read_csv('data/shared_articles.csv')\n",
    "interactions = pd.read_csv('data/users_interactions.csv')"
   ]
  },
  {
   "cell_type": "code",
   "execution_count": 86,
   "id": "9173e8d1",
   "metadata": {},
   "outputs": [
    {
     "data": {
      "text/html": [
       "<div>\n",
       "<style scoped>\n",
       "    .dataframe tbody tr th:only-of-type {\n",
       "        vertical-align: middle;\n",
       "    }\n",
       "\n",
       "    .dataframe tbody tr th {\n",
       "        vertical-align: top;\n",
       "    }\n",
       "\n",
       "    .dataframe thead th {\n",
       "        text-align: right;\n",
       "    }\n",
       "</style>\n",
       "<table border=\"1\" class=\"dataframe\">\n",
       "  <thead>\n",
       "    <tr style=\"text-align: right;\">\n",
       "      <th></th>\n",
       "      <th>timestamp</th>\n",
       "      <th>eventType</th>\n",
       "      <th>contentId</th>\n",
       "      <th>authorPersonId</th>\n",
       "      <th>authorSessionId</th>\n",
       "      <th>authorUserAgent</th>\n",
       "      <th>authorRegion</th>\n",
       "      <th>authorCountry</th>\n",
       "      <th>contentType</th>\n",
       "      <th>url</th>\n",
       "      <th>title</th>\n",
       "      <th>text</th>\n",
       "      <th>lang</th>\n",
       "    </tr>\n",
       "  </thead>\n",
       "  <tbody>\n",
       "    <tr>\n",
       "      <th>0</th>\n",
       "      <td>1459192779</td>\n",
       "      <td>CONTENT REMOVED</td>\n",
       "      <td>-6451309518266745024</td>\n",
       "      <td>4340306774493623681</td>\n",
       "      <td>8940341205206233829</td>\n",
       "      <td>NaN</td>\n",
       "      <td>NaN</td>\n",
       "      <td>NaN</td>\n",
       "      <td>HTML</td>\n",
       "      <td>http://www.nytimes.com/2016/03/28/business/dea...</td>\n",
       "      <td>Ethereum, a Virtual Currency, Enables Transact...</td>\n",
       "      <td>All of this work is still very early. The firs...</td>\n",
       "      <td>en</td>\n",
       "    </tr>\n",
       "    <tr>\n",
       "      <th>1</th>\n",
       "      <td>1459193988</td>\n",
       "      <td>CONTENT SHARED</td>\n",
       "      <td>-4110354420726924665</td>\n",
       "      <td>4340306774493623681</td>\n",
       "      <td>8940341205206233829</td>\n",
       "      <td>NaN</td>\n",
       "      <td>NaN</td>\n",
       "      <td>NaN</td>\n",
       "      <td>HTML</td>\n",
       "      <td>http://www.nytimes.com/2016/03/28/business/dea...</td>\n",
       "      <td>Ethereum, a Virtual Currency, Enables Transact...</td>\n",
       "      <td>All of this work is still very early. The firs...</td>\n",
       "      <td>en</td>\n",
       "    </tr>\n",
       "    <tr>\n",
       "      <th>2</th>\n",
       "      <td>1459194146</td>\n",
       "      <td>CONTENT SHARED</td>\n",
       "      <td>-7292285110016212249</td>\n",
       "      <td>4340306774493623681</td>\n",
       "      <td>8940341205206233829</td>\n",
       "      <td>NaN</td>\n",
       "      <td>NaN</td>\n",
       "      <td>NaN</td>\n",
       "      <td>HTML</td>\n",
       "      <td>http://cointelegraph.com/news/bitcoin-future-w...</td>\n",
       "      <td>Bitcoin Future: When GBPcoin of Branson Wins O...</td>\n",
       "      <td>The alarm clock wakes me at 8:00 with stream o...</td>\n",
       "      <td>en</td>\n",
       "    </tr>\n",
       "    <tr>\n",
       "      <th>3</th>\n",
       "      <td>1459194474</td>\n",
       "      <td>CONTENT SHARED</td>\n",
       "      <td>-6151852268067518688</td>\n",
       "      <td>3891637997717104548</td>\n",
       "      <td>-1457532940883382585</td>\n",
       "      <td>NaN</td>\n",
       "      <td>NaN</td>\n",
       "      <td>NaN</td>\n",
       "      <td>HTML</td>\n",
       "      <td>https://cloudplatform.googleblog.com/2016/03/G...</td>\n",
       "      <td>Google Data Center 360° Tour</td>\n",
       "      <td>We're excited to share the Google Data Center ...</td>\n",
       "      <td>en</td>\n",
       "    </tr>\n",
       "    <tr>\n",
       "      <th>4</th>\n",
       "      <td>1459194497</td>\n",
       "      <td>CONTENT SHARED</td>\n",
       "      <td>2448026894306402386</td>\n",
       "      <td>4340306774493623681</td>\n",
       "      <td>8940341205206233829</td>\n",
       "      <td>NaN</td>\n",
       "      <td>NaN</td>\n",
       "      <td>NaN</td>\n",
       "      <td>HTML</td>\n",
       "      <td>https://bitcoinmagazine.com/articles/ibm-wants...</td>\n",
       "      <td>IBM Wants to \"Evolve the Internet\" With Blockc...</td>\n",
       "      <td>The Aite Group projects the blockchain market ...</td>\n",
       "      <td>en</td>\n",
       "    </tr>\n",
       "  </tbody>\n",
       "</table>\n",
       "</div>"
      ],
      "text/plain": [
       "    timestamp        eventType            contentId       authorPersonId  \\\n",
       "0  1459192779  CONTENT REMOVED -6451309518266745024  4340306774493623681   \n",
       "1  1459193988   CONTENT SHARED -4110354420726924665  4340306774493623681   \n",
       "2  1459194146   CONTENT SHARED -7292285110016212249  4340306774493623681   \n",
       "3  1459194474   CONTENT SHARED -6151852268067518688  3891637997717104548   \n",
       "4  1459194497   CONTENT SHARED  2448026894306402386  4340306774493623681   \n",
       "\n",
       "       authorSessionId authorUserAgent authorRegion authorCountry contentType  \\\n",
       "0  8940341205206233829             NaN          NaN           NaN        HTML   \n",
       "1  8940341205206233829             NaN          NaN           NaN        HTML   \n",
       "2  8940341205206233829             NaN          NaN           NaN        HTML   \n",
       "3 -1457532940883382585             NaN          NaN           NaN        HTML   \n",
       "4  8940341205206233829             NaN          NaN           NaN        HTML   \n",
       "\n",
       "                                                 url  \\\n",
       "0  http://www.nytimes.com/2016/03/28/business/dea...   \n",
       "1  http://www.nytimes.com/2016/03/28/business/dea...   \n",
       "2  http://cointelegraph.com/news/bitcoin-future-w...   \n",
       "3  https://cloudplatform.googleblog.com/2016/03/G...   \n",
       "4  https://bitcoinmagazine.com/articles/ibm-wants...   \n",
       "\n",
       "                                               title  \\\n",
       "0  Ethereum, a Virtual Currency, Enables Transact...   \n",
       "1  Ethereum, a Virtual Currency, Enables Transact...   \n",
       "2  Bitcoin Future: When GBPcoin of Branson Wins O...   \n",
       "3                       Google Data Center 360° Tour   \n",
       "4  IBM Wants to \"Evolve the Internet\" With Blockc...   \n",
       "\n",
       "                                                text lang  \n",
       "0  All of this work is still very early. The firs...   en  \n",
       "1  All of this work is still very early. The firs...   en  \n",
       "2  The alarm clock wakes me at 8:00 with stream o...   en  \n",
       "3  We're excited to share the Google Data Center ...   en  \n",
       "4  The Aite Group projects the blockchain market ...   en  "
      ]
     },
     "execution_count": 86,
     "metadata": {},
     "output_type": "execute_result"
    }
   ],
   "source": [
    "articles.head()"
   ]
  },
  {
   "cell_type": "markdown",
   "id": "cca53360",
   "metadata": {},
   "source": [
    "Информация о данных:\n",
    "- дата публикации (временная метка),\n",
    "- исходный URL-адрес,\n",
    "- заголовок,\n",
    "- содержание в виде обычного текста,\n",
    "- язык статьи (португальский — pt или английский — en),\n",
    "- информация о пользователе, который поделился статьёй (автор)."
   ]
  },
  {
   "cell_type": "code",
   "execution_count": 87,
   "id": "94dbbdf8",
   "metadata": {},
   "outputs": [
    {
     "data": {
      "text/html": [
       "<div>\n",
       "<style scoped>\n",
       "    .dataframe tbody tr th:only-of-type {\n",
       "        vertical-align: middle;\n",
       "    }\n",
       "\n",
       "    .dataframe tbody tr th {\n",
       "        vertical-align: top;\n",
       "    }\n",
       "\n",
       "    .dataframe thead th {\n",
       "        text-align: right;\n",
       "    }\n",
       "</style>\n",
       "<table border=\"1\" class=\"dataframe\">\n",
       "  <thead>\n",
       "    <tr style=\"text-align: right;\">\n",
       "      <th></th>\n",
       "      <th>timestamp</th>\n",
       "      <th>eventType</th>\n",
       "      <th>contentId</th>\n",
       "      <th>personId</th>\n",
       "      <th>sessionId</th>\n",
       "      <th>userAgent</th>\n",
       "      <th>userRegion</th>\n",
       "      <th>userCountry</th>\n",
       "    </tr>\n",
       "  </thead>\n",
       "  <tbody>\n",
       "    <tr>\n",
       "      <th>0</th>\n",
       "      <td>1465413032</td>\n",
       "      <td>VIEW</td>\n",
       "      <td>-3499919498720038879</td>\n",
       "      <td>-8845298781299428018</td>\n",
       "      <td>1264196770339959068</td>\n",
       "      <td>NaN</td>\n",
       "      <td>NaN</td>\n",
       "      <td>NaN</td>\n",
       "    </tr>\n",
       "    <tr>\n",
       "      <th>1</th>\n",
       "      <td>1465412560</td>\n",
       "      <td>VIEW</td>\n",
       "      <td>8890720798209849691</td>\n",
       "      <td>-1032019229384696495</td>\n",
       "      <td>3621737643587579081</td>\n",
       "      <td>Mozilla/5.0 (Macintosh; Intel Mac OS X 10_11_2...</td>\n",
       "      <td>NY</td>\n",
       "      <td>US</td>\n",
       "    </tr>\n",
       "    <tr>\n",
       "      <th>2</th>\n",
       "      <td>1465416190</td>\n",
       "      <td>VIEW</td>\n",
       "      <td>310515487419366995</td>\n",
       "      <td>-1130272294246983140</td>\n",
       "      <td>2631864456530402479</td>\n",
       "      <td>NaN</td>\n",
       "      <td>NaN</td>\n",
       "      <td>NaN</td>\n",
       "    </tr>\n",
       "    <tr>\n",
       "      <th>3</th>\n",
       "      <td>1465413895</td>\n",
       "      <td>FOLLOW</td>\n",
       "      <td>310515487419366995</td>\n",
       "      <td>344280948527967603</td>\n",
       "      <td>-3167637573980064150</td>\n",
       "      <td>NaN</td>\n",
       "      <td>NaN</td>\n",
       "      <td>NaN</td>\n",
       "    </tr>\n",
       "    <tr>\n",
       "      <th>4</th>\n",
       "      <td>1465412290</td>\n",
       "      <td>VIEW</td>\n",
       "      <td>-7820640624231356730</td>\n",
       "      <td>-445337111692715325</td>\n",
       "      <td>5611481178424124714</td>\n",
       "      <td>NaN</td>\n",
       "      <td>NaN</td>\n",
       "      <td>NaN</td>\n",
       "    </tr>\n",
       "  </tbody>\n",
       "</table>\n",
       "</div>"
      ],
      "text/plain": [
       "    timestamp eventType            contentId             personId  \\\n",
       "0  1465413032      VIEW -3499919498720038879 -8845298781299428018   \n",
       "1  1465412560      VIEW  8890720798209849691 -1032019229384696495   \n",
       "2  1465416190      VIEW   310515487419366995 -1130272294246983140   \n",
       "3  1465413895    FOLLOW   310515487419366995   344280948527967603   \n",
       "4  1465412290      VIEW -7820640624231356730  -445337111692715325   \n",
       "\n",
       "             sessionId                                          userAgent  \\\n",
       "0  1264196770339959068                                                NaN   \n",
       "1  3621737643587579081  Mozilla/5.0 (Macintosh; Intel Mac OS X 10_11_2...   \n",
       "2  2631864456530402479                                                NaN   \n",
       "3 -3167637573980064150                                                NaN   \n",
       "4  5611481178424124714                                                NaN   \n",
       "\n",
       "  userRegion userCountry  \n",
       "0        NaN         NaN  \n",
       "1         NY          US  \n",
       "2        NaN         NaN  \n",
       "3        NaN         NaN  \n",
       "4        NaN         NaN  "
      ]
     },
     "execution_count": 87,
     "metadata": {},
     "output_type": "execute_result"
    }
   ],
   "source": [
    "interactions.head()"
   ]
  },
  {
   "cell_type": "markdown",
   "id": "a7dd8a7f",
   "metadata": {},
   "source": [
    "Информация о событиях:\n",
    "- VIEW — просмотр,\n",
    "- LIKE — лайк,\n",
    "- COMMENT CREATED — комментарий,\n",
    "- FOLLOW — подписка,\n",
    "- BOOKMARK — добавление в закладки."
   ]
  },
  {
   "cell_type": "markdown",
   "id": "7c62d6cd",
   "metadata": {},
   "source": [
    "Отфильтруем данные так, чтобы остались только объекты с типом события CONTENT SHARED."
   ]
  },
  {
   "cell_type": "code",
   "execution_count": 88,
   "id": "db3a601e",
   "metadata": {},
   "outputs": [
    {
     "data": {
      "text/plain": [
       "(3047, 13)"
      ]
     },
     "execution_count": 88,
     "metadata": {},
     "output_type": "execute_result"
    }
   ],
   "source": [
    "articles = articles[articles['eventType'] == 'CONTENT SHARED']\n",
    "articles.shape"
   ]
  },
  {
   "cell_type": "code",
   "execution_count": 89,
   "id": "ce2334ea",
   "metadata": {},
   "outputs": [],
   "source": [
    "interactions.personId = interactions.personId.astype(str)\n",
    "interactions.contentId = interactions.contentId.astype(str)\n",
    "articles.contentId = articles.contentId.astype(str)"
   ]
  },
  {
   "cell_type": "markdown",
   "id": "49c91a22",
   "metadata": {},
   "source": [
    "Создадим универсальный индекс популярности. Составим его из реакций пользователей, придав им разные веса."
   ]
  },
  {
   "cell_type": "code",
   "execution_count": 90,
   "id": "9b814073",
   "metadata": {},
   "outputs": [],
   "source": [
    "event_type_index = {\n",
    "   'VIEW': 1.0,\n",
    "   'LIKE': 2.0, \n",
    "   'BOOKMARK': 2.5, \n",
    "   'FOLLOW': 3.0,\n",
    "   'COMMENT CREATED': 4.0,  \n",
    "}"
   ]
  },
  {
   "cell_type": "markdown",
   "id": "d454c6b6",
   "metadata": {},
   "source": [
    "Создадим признак, который будет отражать числовой вес для взаимодействия со статьёй (в соответствии с приведёнными выше весами)."
   ]
  },
  {
   "cell_type": "code",
   "execution_count": 91,
   "id": "df533276",
   "metadata": {},
   "outputs": [
    {
     "data": {
      "text/plain": [
       "1.2362885828078327"
      ]
     },
     "execution_count": 91,
     "metadata": {},
     "output_type": "execute_result"
    }
   ],
   "source": [
    "interactions['eventIndex'] = interactions.eventType.apply(lambda x: event_type_index[x])\n",
    "interactions['eventIndex'].mean()"
   ]
  },
  {
   "cell_type": "markdown",
   "id": "3748b930",
   "metadata": {},
   "source": [
    "Для минимизации проблемы холодного старта оставим только тех пользователей, которые взаимодействовали хотя бы с пятью статьями."
   ]
  },
  {
   "cell_type": "code",
   "execution_count": 92,
   "id": "fb6a9679",
   "metadata": {},
   "outputs": [
    {
     "data": {
      "text/plain": [
       "personId\n",
       "-1007001694607905623      6\n",
       "-1032019229384696495    648\n",
       "-108842214936804958     270\n",
       "-1093393486211919385      2\n",
       "-1110220372195277179      3\n",
       "dtype: int64"
      ]
     },
     "execution_count": 92,
     "metadata": {},
     "output_type": "execute_result"
    }
   ],
   "source": [
    "users_interactions = (\n",
    "    interactions\n",
    "    .groupby(['personId', 'contentId'])\n",
    "    .first()\n",
    "    .reset_index()\n",
    "    .groupby('personId')\n",
    "    .size()\n",
    ")\n",
    "users_interactions.head()"
   ]
  },
  {
   "cell_type": "code",
   "execution_count": 93,
   "id": "2eab26a7",
   "metadata": {},
   "outputs": [
    {
     "name": "stdout",
     "output_type": "stream",
     "text": [
      "1140\n"
     ]
    }
   ],
   "source": [
    "users_5_interactions = users_interactions[users_interactions >= 5].reset_index()[['personId']]\n",
    "print(len(users_5_interactions))"
   ]
  },
  {
   "cell_type": "markdown",
   "id": "5819ef95",
   "metadata": {},
   "source": [
    "Оставим только те взаимодействия, которые касаются только отфильтрованных пользователей (то есть тех, которые взаимодействовали как минимум с пятью статьями)."
   ]
  },
  {
   "cell_type": "code",
   "execution_count": 94,
   "id": "8c8687cc",
   "metadata": {},
   "outputs": [
    {
     "name": "stdout",
     "output_type": "stream",
     "text": [
      "(69868, 9)\n"
     ]
    }
   ],
   "source": [
    "intersect_df = interactions.loc[np.in1d(interactions.personId, users_5_interactions)]\n",
    "print(intersect_df.shape)"
   ]
  },
  {
   "cell_type": "markdown",
   "id": "78c1b06c",
   "metadata": {},
   "source": [
    "Прологарифмируем сумму весов для взаимодействия пользователя с каждой конкретной статьёй. Также сохраните для каждой пары «пользователь — статья» значение времени последнего взаимодействия."
   ]
  },
  {
   "cell_type": "code",
   "execution_count": 95,
   "id": "a0060dee",
   "metadata": {},
   "outputs": [],
   "source": [
    "def smooth_user_preference(x):\n",
    "    return math.log(1+x, 2)"
   ]
  },
  {
   "cell_type": "code",
   "execution_count": 96,
   "id": "62b80d9b",
   "metadata": {},
   "outputs": [],
   "source": [
    "df = (\n",
    "    intersect_df\n",
    "    .groupby(['personId', 'contentId'])\n",
    "    .eventIndex.sum()\n",
    "    .apply(smooth_user_preference)\n",
    "    .reset_index()\n",
    "    .set_index(['personId', 'contentId'])\n",
    ")"
   ]
  },
  {
   "cell_type": "code",
   "execution_count": 97,
   "id": "4e7d99da",
   "metadata": {},
   "outputs": [],
   "source": [
    "df['last_timestamp'] = (\n",
    "    intersect_df\n",
    "    .groupby(['personId', 'contentId'])\n",
    "    .timestamp.last()\n",
    ")\n",
    "df = df.reset_index()"
   ]
  },
  {
   "cell_type": "code",
   "execution_count": 98,
   "id": "6e9ace6b",
   "metadata": {},
   "outputs": [
    {
     "data": {
      "text/plain": [
       "1470587338.35212"
      ]
     },
     "execution_count": 98,
     "metadata": {},
     "output_type": "execute_result"
    }
   ],
   "source": [
    "df['last_timestamp'].mean()"
   ]
  },
  {
   "cell_type": "markdown",
   "id": "ab668e0d",
   "metadata": {},
   "source": [
    "Разделим данные на обучающую и тестовую выборки, выбрав в качестве временной отсечки значение 1475519545."
   ]
  },
  {
   "cell_type": "code",
   "execution_count": 99,
   "id": "fe00b063",
   "metadata": {},
   "outputs": [
    {
     "name": "stdout",
     "output_type": "stream",
     "text": [
      "29329\n"
     ]
    }
   ],
   "source": [
    "split_ts = 1475519545\n",
    "train_df = df.loc[df.last_timestamp < split_ts].copy()\n",
    "test_df = df.loc[df.last_timestamp >= split_ts].copy()\n",
    " \n",
    "print(len(train_df))"
   ]
  },
  {
   "cell_type": "markdown",
   "id": "4065a097",
   "metadata": {},
   "source": [
    "# Часть I. Рекомендательнаяя система на основе популярности."
   ]
  },
  {
   "cell_type": "markdown",
   "id": "d2374ed3",
   "metadata": {},
   "source": [
    "Преобразуем данные так, чтобы получить таблицу в формате, где строка соответствует пользователю, а столбцы будут истинными предпочтениями и рекомендациями в формате списков. На место пустых ячеек поместим пустые списки."
   ]
  },
  {
   "cell_type": "code",
   "execution_count": 100,
   "id": "d326dca6",
   "metadata": {},
   "outputs": [],
   "source": [
    "final_df = (\n",
    "    train_df\n",
    "    .groupby('personId')['contentId'].agg(lambda x: list(x))\n",
    "    .reset_index()\n",
    "    .rename(columns={'contentId': 'true_train'})\n",
    "    .set_index('personId')\n",
    ")\n",
    "\n",
    "final_df['true_test'] = (\n",
    "    test_df.groupby('personId')['contentId'].agg(lambda x: list(x))\n",
    ")\n",
    "\n",
    "final_df['true_test'] = [ [] if x is np.NaN else x for x in final_df['true_test'] ]"
   ]
  },
  {
   "cell_type": "markdown",
   "id": "14fdcbc1",
   "metadata": {},
   "source": [
    "Посчитаем популярность каждой статьи как сумму всех «оценок» взаимодействий с ней, используя только обучающую выборку."
   ]
  },
  {
   "cell_type": "code",
   "execution_count": 101,
   "id": "c5f3e552",
   "metadata": {},
   "outputs": [
    {
     "data": {
      "text/plain": [
       "'-6783772548752091658'"
      ]
     },
     "execution_count": 101,
     "metadata": {},
     "output_type": "execute_result"
    }
   ],
   "source": [
    "popular = (\n",
    "    train_df\n",
    "    .groupby('contentId')\n",
    "    .eventIndex.sum().reset_index()\n",
    "    .sort_values('eventIndex', ascending=False)\n",
    "    .contentId.values\n",
    ")\n",
    "popular[0]"
   ]
  },
  {
   "cell_type": "markdown",
   "id": "326842f0",
   "metadata": {},
   "source": [
    "Сформируем рекомендации для каждого пользователя. Будем рекомендовать десять самых популярных статей. Будем предлагать пользователю только то, что он ещё не читал."
   ]
  },
  {
   "cell_type": "markdown",
   "id": "c7a8ef46",
   "metadata": {},
   "source": [
    "Оценим качество с помощью precision@10 для каждого пользователя (доля угаданных рекомендаций). После этого усредним результат по всем пользователям."
   ]
  },
  {
   "cell_type": "code",
   "execution_count": 102,
   "id": "e1e48de1",
   "metadata": {},
   "outputs": [],
   "source": [
    "def precision(column):\n",
    "    return (\n",
    "        final_df.apply(\n",
    "            lambda row:\n",
    "            len(set(row['true_test']).intersection(\n",
    "                set(row[column]))) /\n",
    "            min(len(row['true_test']) + 0.001, 10.0),\n",
    "            axis=1)\n",
    "        ).mean()"
   ]
  },
  {
   "cell_type": "code",
   "execution_count": 103,
   "id": "43256789",
   "metadata": {},
   "outputs": [],
   "source": [
    "top_k = 10\n",
    " \n",
    "final_df['popular'] = (\n",
    "    final_df.true_train\n",
    "    .apply(\n",
    "        lambda x:\n",
    "        popular[~np.in1d(popular, x)][:top_k]\n",
    "    )\n",
    ")"
   ]
  },
  {
   "cell_type": "code",
   "execution_count": 104,
   "id": "d82aff00",
   "metadata": {},
   "outputs": [
    {
     "data": {
      "text/html": [
       "<div>\n",
       "<style scoped>\n",
       "    .dataframe tbody tr th:only-of-type {\n",
       "        vertical-align: middle;\n",
       "    }\n",
       "\n",
       "    .dataframe tbody tr th {\n",
       "        vertical-align: top;\n",
       "    }\n",
       "\n",
       "    .dataframe thead th {\n",
       "        text-align: right;\n",
       "    }\n",
       "</style>\n",
       "<table border=\"1\" class=\"dataframe\">\n",
       "  <thead>\n",
       "    <tr style=\"text-align: right;\">\n",
       "      <th></th>\n",
       "      <th>true_train</th>\n",
       "      <th>true_test</th>\n",
       "      <th>popular</th>\n",
       "    </tr>\n",
       "    <tr>\n",
       "      <th>personId</th>\n",
       "      <th></th>\n",
       "      <th></th>\n",
       "      <th></th>\n",
       "    </tr>\n",
       "  </thead>\n",
       "  <tbody>\n",
       "    <tr>\n",
       "      <th>-1007001694607905623</th>\n",
       "      <td>[-5065077552540450930, -793729620925729327]</td>\n",
       "      <td>[-6623581327558800021, 1469580151036142903, 72...</td>\n",
       "      <td>[-6783772548752091658, -133139342397538859, -8...</td>\n",
       "    </tr>\n",
       "    <tr>\n",
       "      <th>-1032019229384696495</th>\n",
       "      <td>[-1006791494035379303, -1039912738963181810, -...</td>\n",
       "      <td>[-1415040208471067980, -2555801390963402198, -...</td>\n",
       "      <td>[-6783772548752091658, -133139342397538859, -8...</td>\n",
       "    </tr>\n",
       "    <tr>\n",
       "      <th>-108842214936804958</th>\n",
       "      <td>[-1196068832249300490, -133139342397538859, -1...</td>\n",
       "      <td>[-2780168264183400543, -3060116862184714437, -...</td>\n",
       "      <td>[-6783772548752091658, -8208801367848627943, 8...</td>\n",
       "    </tr>\n",
       "    <tr>\n",
       "      <th>-1130272294246983140</th>\n",
       "      <td>[-1150591229250318592, -1196068832249300490, -...</td>\n",
       "      <td>[-1606980109000976010, -1663441888197894674, -...</td>\n",
       "      <td>[-133139342397538859, -8208801367848627943, 82...</td>\n",
       "    </tr>\n",
       "    <tr>\n",
       "      <th>-1160159014793528221</th>\n",
       "      <td>[-133139342397538859, -387651900461462767, 377...</td>\n",
       "      <td>[-3462051751080362224]</td>\n",
       "      <td>[-6783772548752091658, -8208801367848627943, 8...</td>\n",
       "    </tr>\n",
       "    <tr>\n",
       "      <th>...</th>\n",
       "      <td>...</td>\n",
       "      <td>...</td>\n",
       "      <td>...</td>\n",
       "    </tr>\n",
       "    <tr>\n",
       "      <th>953707509720613429</th>\n",
       "      <td>[-1068603220639552685, -2358756719610361882, -...</td>\n",
       "      <td>[-2402288292108892893, -5813211845057621660, -...</td>\n",
       "      <td>[-133139342397538859, -8208801367848627943, 82...</td>\n",
       "    </tr>\n",
       "    <tr>\n",
       "      <th>983095443598229476</th>\n",
       "      <td>[-133139342397538859, -8742648016180281673]</td>\n",
       "      <td>[-14569272361926584, -1572252285162838958, -18...</td>\n",
       "      <td>[-6783772548752091658, -8208801367848627943, 8...</td>\n",
       "    </tr>\n",
       "    <tr>\n",
       "      <th>989049974880576288</th>\n",
       "      <td>[-133139342397538859, -2038869595290705317, -2...</td>\n",
       "      <td>[-6289909056857931861, -7047448754687279385, -...</td>\n",
       "      <td>[-6783772548752091658, -8208801367848627943, 8...</td>\n",
       "    </tr>\n",
       "    <tr>\n",
       "      <th>997469202936578234</th>\n",
       "      <td>[-2358756719610361882, -4336877432539963613, -...</td>\n",
       "      <td>[-4029704725707465084, -5920475612630001479, -...</td>\n",
       "      <td>[-6783772548752091658, -133139342397538859, -8...</td>\n",
       "    </tr>\n",
       "    <tr>\n",
       "      <th>998688566268269815</th>\n",
       "      <td>[-1255189867397298842, -401664538366009049, 68...</td>\n",
       "      <td>[3456674717452933449, 7174452660053929140]</td>\n",
       "      <td>[-6783772548752091658, -133139342397538859, -8...</td>\n",
       "    </tr>\n",
       "  </tbody>\n",
       "</table>\n",
       "<p>1112 rows × 3 columns</p>\n",
       "</div>"
      ],
      "text/plain": [
       "                                                             true_train  \\\n",
       "personId                                                                  \n",
       "-1007001694607905623        [-5065077552540450930, -793729620925729327]   \n",
       "-1032019229384696495  [-1006791494035379303, -1039912738963181810, -...   \n",
       "-108842214936804958   [-1196068832249300490, -133139342397538859, -1...   \n",
       "-1130272294246983140  [-1150591229250318592, -1196068832249300490, -...   \n",
       "-1160159014793528221  [-133139342397538859, -387651900461462767, 377...   \n",
       "...                                                                 ...   \n",
       "953707509720613429    [-1068603220639552685, -2358756719610361882, -...   \n",
       "983095443598229476          [-133139342397538859, -8742648016180281673]   \n",
       "989049974880576288    [-133139342397538859, -2038869595290705317, -2...   \n",
       "997469202936578234    [-2358756719610361882, -4336877432539963613, -...   \n",
       "998688566268269815    [-1255189867397298842, -401664538366009049, 68...   \n",
       "\n",
       "                                                              true_test  \\\n",
       "personId                                                                  \n",
       "-1007001694607905623  [-6623581327558800021, 1469580151036142903, 72...   \n",
       "-1032019229384696495  [-1415040208471067980, -2555801390963402198, -...   \n",
       "-108842214936804958   [-2780168264183400543, -3060116862184714437, -...   \n",
       "-1130272294246983140  [-1606980109000976010, -1663441888197894674, -...   \n",
       "-1160159014793528221                             [-3462051751080362224]   \n",
       "...                                                                 ...   \n",
       "953707509720613429    [-2402288292108892893, -5813211845057621660, -...   \n",
       "983095443598229476    [-14569272361926584, -1572252285162838958, -18...   \n",
       "989049974880576288    [-6289909056857931861, -7047448754687279385, -...   \n",
       "997469202936578234    [-4029704725707465084, -5920475612630001479, -...   \n",
       "998688566268269815           [3456674717452933449, 7174452660053929140]   \n",
       "\n",
       "                                                                popular  \n",
       "personId                                                                 \n",
       "-1007001694607905623  [-6783772548752091658, -133139342397538859, -8...  \n",
       "-1032019229384696495  [-6783772548752091658, -133139342397538859, -8...  \n",
       "-108842214936804958   [-6783772548752091658, -8208801367848627943, 8...  \n",
       "-1130272294246983140  [-133139342397538859, -8208801367848627943, 82...  \n",
       "-1160159014793528221  [-6783772548752091658, -8208801367848627943, 8...  \n",
       "...                                                                 ...  \n",
       "953707509720613429    [-133139342397538859, -8208801367848627943, 82...  \n",
       "983095443598229476    [-6783772548752091658, -8208801367848627943, 8...  \n",
       "989049974880576288    [-6783772548752091658, -8208801367848627943, 8...  \n",
       "997469202936578234    [-6783772548752091658, -133139342397538859, -8...  \n",
       "998688566268269815    [-6783772548752091658, -133139342397538859, -8...  \n",
       "\n",
       "[1112 rows x 3 columns]"
      ]
     },
     "execution_count": 104,
     "metadata": {},
     "output_type": "execute_result"
    }
   ],
   "source": [
    "final_df"
   ]
  },
  {
   "cell_type": "code",
   "execution_count": 105,
   "id": "856db0ba",
   "metadata": {},
   "outputs": [
    {
     "data": {
      "text/plain": [
       "0.006454207722621089"
      ]
     },
     "execution_count": 105,
     "metadata": {},
     "output_type": "execute_result"
    }
   ],
   "source": [
    "precision('popular')"
   ]
  },
  {
   "cell_type": "markdown",
   "id": "1bec5aae",
   "metadata": {},
   "source": [
    "Качество получилось не очень высоким, так как рекомендации были неперсонализированными."
   ]
  },
  {
   "cell_type": "markdown",
   "id": "c2dcbb9d",
   "metadata": {},
   "source": [
    "# Часть II. Рекомендательнаяя система на основе более сложных алгоритмов."
   ]
  },
  {
   "cell_type": "markdown",
   "id": "48583562",
   "metadata": {},
   "source": [
    "Построим матрицу, в которой по столбцам будут находиться id статей, по строкам — id пользователей, а на пересечениях строк и столбцов — оценка взаимодействия пользователя со статьёй. Если взаимодействия не было, в соответствующей ячейке поставим ноль."
   ]
  },
  {
   "cell_type": "markdown",
   "id": "69271698",
   "metadata": {},
   "source": [
    "Найдите оценку взаимодействия пользователя с ID -1032019229384696495 со статьёй с ID 943818026930898372."
   ]
  },
  {
   "cell_type": "code",
   "execution_count": 106,
   "id": "9bab803d",
   "metadata": {},
   "outputs": [
    {
     "data": {
      "text/plain": [
       "2.321928094887362"
      ]
     },
     "execution_count": 106,
     "metadata": {},
     "output_type": "execute_result"
    }
   ],
   "source": [
    "ratings = pd.pivot_table(\n",
    "    train_df,\n",
    "    values='eventIndex',\n",
    "    index='personId',\n",
    "    columns='contentId').fillna(0)\n",
    "ratings.loc['-1032019229384696495','943818026930898372']"
   ]
  },
  {
   "cell_type": "markdown",
   "id": "df90f688",
   "metadata": {},
   "source": [
    "Применим memory-based-подход коллаборативной фильтрации. Для увеличения скорости работы преобразуем таблицу в массив numpy."
   ]
  },
  {
   "cell_type": "code",
   "execution_count": 107,
   "id": "65f3f5e6",
   "metadata": {},
   "outputs": [
    {
     "data": {
      "text/plain": [
       "0.016673743043640697"
      ]
     },
     "execution_count": 107,
     "metadata": {},
     "output_type": "execute_result"
    }
   ],
   "source": [
    "ratings_np = ratings.values\n",
    "ratings_np.mean()"
   ]
  },
  {
   "cell_type": "markdown",
   "id": "260e9062",
   "metadata": {},
   "source": [
    "#### Реализуем коллаборативную фильтрацию."
   ]
  },
  {
   "cell_type": "markdown",
   "id": "a3057009",
   "metadata": {},
   "source": [
    "Построим матрицу схожести. Для этого вычислим все попарные коэффициенты корреляции для матрицы, полученной выше. Для каждой пары будем учитывать только ненулевые значения (так как нулевые обозначают отсутствие взаимодействия и не интересуют нас)."
   ]
  },
  {
   "cell_type": "code",
   "execution_count": 108,
   "id": "2a007fec",
   "metadata": {},
   "outputs": [
    {
     "name": "stderr",
     "output_type": "stream",
     "text": [
      "c:\\Users\\krygl\\AppData\\Local\\Programs\\Python\\Python39\\lib\\site-packages\\numpy\\lib\\function_base.py:495: RuntimeWarning: Mean of empty slice.\n",
      "  avg = a.mean(axis)\n",
      "c:\\Users\\krygl\\AppData\\Local\\Programs\\Python\\Python39\\lib\\site-packages\\numpy\\core\\_methods.py:181: RuntimeWarning: invalid value encountered in true_divide\n",
      "  ret = um.true_divide(\n",
      "c:\\Users\\krygl\\AppData\\Local\\Programs\\Python\\Python39\\lib\\site-packages\\numpy\\lib\\function_base.py:2821: RuntimeWarning: Degrees of freedom <= 0 for slice\n",
      "  c = cov(x, y, rowvar, dtype=dtype)\n",
      "c:\\Users\\krygl\\AppData\\Local\\Programs\\Python\\Python39\\lib\\site-packages\\numpy\\lib\\function_base.py:2680: RuntimeWarning: divide by zero encountered in true_divide\n",
      "  c *= np.true_divide(1, fact)\n",
      "c:\\Users\\krygl\\AppData\\Local\\Programs\\Python\\Python39\\lib\\site-packages\\numpy\\lib\\function_base.py:2680: RuntimeWarning: invalid value encountered in multiply\n",
      "  c *= np.true_divide(1, fact)\n",
      "c:\\Users\\krygl\\AppData\\Local\\Programs\\Python\\Python39\\lib\\site-packages\\numpy\\lib\\function_base.py:2829: RuntimeWarning: invalid value encountered in true_divide\n",
      "  c /= stddev[:, None]\n",
      "c:\\Users\\krygl\\AppData\\Local\\Programs\\Python\\Python39\\lib\\site-packages\\numpy\\lib\\function_base.py:2830: RuntimeWarning: invalid value encountered in true_divide\n",
      "  c /= stddev[None, :]\n"
     ]
    }
   ],
   "source": [
    "similarity_users = np.zeros((len(ratings_np), len(ratings_np)))\n",
    "for i in range(len(ratings_np)-1):\n",
    "    for j in range(i+1, len(ratings_np)):\n",
    "        mask_uv = (ratings_np[i] != 0) & (ratings_np[j] != 0)\n",
    "        ratings_v = ratings_np[i, mask_uv]\n",
    "        ratings_u = ratings_np[j, mask_uv]\n",
    "        similarity_users[i,j] = np.corrcoef(ratings_v, ratings_u)[0, 1]\n",
    "        similarity_users[j,i] = similarity_users[i,j]"
   ]
  },
  {
   "cell_type": "markdown",
   "id": "18030cd5",
   "metadata": {},
   "source": [
    "Выведите результат, полученный в ячейке с третьим индексом по строкам и сороковым — по столбцам."
   ]
  },
  {
   "cell_type": "code",
   "execution_count": 109,
   "id": "63a5aaaf",
   "metadata": {},
   "outputs": [
    {
     "data": {
      "text/plain": [
       "-0.3333333333333333"
      ]
     },
     "execution_count": 109,
     "metadata": {},
     "output_type": "execute_result"
    }
   ],
   "source": [
    "similarity_users[3,40]"
   ]
  },
  {
   "cell_type": "markdown",
   "id": "d490713f",
   "metadata": {},
   "source": [
    "Для построения рекомендаций реализуем алгоритм.\n",
    "\n",
    "Для каждого пользователя:\n",
    "\n",
    "- Найдем пользователей с похожестью больше 0.\n",
    "- Для каждой статьи вычислим долю пользователей (среди выделенных на первом шаге), которые взаимодействовали со статьёй.\n",
    "- Порекомендуем статьи с наибольшими долями со второго шага (среди тех, которые пользователь ещё не видел)."
   ]
  },
  {
   "cell_type": "code",
   "execution_count": 110,
   "id": "a3b13af5",
   "metadata": {},
   "outputs": [
    {
     "data": {
      "text/html": [
       "<div>\n",
       "<style scoped>\n",
       "    .dataframe tbody tr th:only-of-type {\n",
       "        vertical-align: middle;\n",
       "    }\n",
       "\n",
       "    .dataframe tbody tr th {\n",
       "        vertical-align: top;\n",
       "    }\n",
       "\n",
       "    .dataframe thead th {\n",
       "        text-align: right;\n",
       "    }\n",
       "</style>\n",
       "<table border=\"1\" class=\"dataframe\">\n",
       "  <thead>\n",
       "    <tr style=\"text-align: right;\">\n",
       "      <th></th>\n",
       "      <th>true_train</th>\n",
       "      <th>true_test</th>\n",
       "    </tr>\n",
       "    <tr>\n",
       "      <th>personId</th>\n",
       "      <th></th>\n",
       "      <th></th>\n",
       "    </tr>\n",
       "  </thead>\n",
       "  <tbody>\n",
       "    <tr>\n",
       "      <th>-1007001694607905623</th>\n",
       "      <td>[-5065077552540450930, -793729620925729327]</td>\n",
       "      <td>[-6623581327558800021, 1469580151036142903, 72...</td>\n",
       "    </tr>\n",
       "    <tr>\n",
       "      <th>-1032019229384696495</th>\n",
       "      <td>[-1006791494035379303, -1039912738963181810, -...</td>\n",
       "      <td>[-1415040208471067980, -2555801390963402198, -...</td>\n",
       "    </tr>\n",
       "    <tr>\n",
       "      <th>-108842214936804958</th>\n",
       "      <td>[-1196068832249300490, -133139342397538859, -1...</td>\n",
       "      <td>[-2780168264183400543, -3060116862184714437, -...</td>\n",
       "    </tr>\n",
       "    <tr>\n",
       "      <th>-1130272294246983140</th>\n",
       "      <td>[-1150591229250318592, -1196068832249300490, -...</td>\n",
       "      <td>[-1606980109000976010, -1663441888197894674, -...</td>\n",
       "    </tr>\n",
       "    <tr>\n",
       "      <th>-1160159014793528221</th>\n",
       "      <td>[-133139342397538859, -387651900461462767, 377...</td>\n",
       "      <td>[-3462051751080362224]</td>\n",
       "    </tr>\n",
       "  </tbody>\n",
       "</table>\n",
       "</div>"
      ],
      "text/plain": [
       "                                                             true_train  \\\n",
       "personId                                                                  \n",
       "-1007001694607905623        [-5065077552540450930, -793729620925729327]   \n",
       "-1032019229384696495  [-1006791494035379303, -1039912738963181810, -...   \n",
       "-108842214936804958   [-1196068832249300490, -133139342397538859, -1...   \n",
       "-1130272294246983140  [-1150591229250318592, -1196068832249300490, -...   \n",
       "-1160159014793528221  [-133139342397538859, -387651900461462767, 377...   \n",
       "\n",
       "                                                              true_test  \n",
       "personId                                                                 \n",
       "-1007001694607905623  [-6623581327558800021, 1469580151036142903, 72...  \n",
       "-1032019229384696495  [-1415040208471067980, -2555801390963402198, -...  \n",
       "-108842214936804958   [-2780168264183400543, -3060116862184714437, -...  \n",
       "-1130272294246983140  [-1606980109000976010, -1663441888197894674, -...  \n",
       "-1160159014793528221                             [-3462051751080362224]  "
      ]
     },
     "execution_count": 110,
     "metadata": {},
     "output_type": "execute_result"
    }
   ],
   "source": [
    "interactions_df = (\n",
    "    train_df.groupby(\"personId\")[\"contentId\"]\n",
    "    .agg(list)\n",
    "    .reset_index()\n",
    "    .rename(columns={\"contentId\": \"true_train\"})\n",
    "    .set_index(\"personId\")\n",
    ")\n",
    "\n",
    "interactions_df[\"true_test\"] = test_df.groupby(\"personId\")[\n",
    "    \"contentId\"\n",
    "].agg(list)\n",
    "\n",
    "interactions_df[\"true_test\"] = [[] if x is np.NaN else x for x in interactions_df[\"true_test\"]]\n",
    "interactions_df.head()"
   ]
  },
  {
   "cell_type": "code",
   "execution_count": 111,
   "id": "f69c946a",
   "metadata": {},
   "outputs": [],
   "source": [
    "prediction_user_based = []\n",
    "for i in range(len(similarity_users)):\n",
    "    users_sim = similarity_users[i] > 0\n",
    "    if len(users_sim) == 0:\n",
    "        prediction_user_based.append([])\n",
    "    else:\n",
    "        tmp_recommend = np.argsort(ratings_np[users_sim].sum(axis=0))[::-1]\n",
    "        tmp_recommend = ratings.columns[tmp_recommend]\n",
    "        recommend = np.array(tmp_recommend)[~np.in1d(tmp_recommend, final_df.iloc[i])][:10]\n",
    "        prediction_user_based.append(list(recommend))\n",
    "interactions_df['prediction_user_based'] = prediction_user_based"
   ]
  },
  {
   "cell_type": "markdown",
   "id": "f63f7057",
   "metadata": {},
   "source": [
    "Найдите первую рекомендацию для строки 34 (если считать с нуля)."
   ]
  },
  {
   "cell_type": "code",
   "execution_count": 112,
   "id": "f330a001",
   "metadata": {},
   "outputs": [
    {
     "data": {
      "text/plain": [
       "'98528655405030624'"
      ]
     },
     "execution_count": 112,
     "metadata": {},
     "output_type": "execute_result"
    }
   ],
   "source": [
    "prediction_user_based[34][0]"
   ]
  },
  {
   "cell_type": "markdown",
   "id": "34ea2d74",
   "metadata": {},
   "source": [
    "Вычислим качество по метрике, которую мы определили выше при решении этой задачи."
   ]
  },
  {
   "cell_type": "code",
   "execution_count": 113,
   "id": "1b9fe341",
   "metadata": {},
   "outputs": [],
   "source": [
    "def calc_precision(column):\n",
    "    return (\n",
    "        interactions_df.apply(\n",
    "            lambda row:\n",
    "                len(set(row['true_test']).intersection(\n",
    "                set(row[column]))) /\n",
    "                min(len(row['true_test']) + 0.001, 10.0), \n",
    "                axis=1)\n",
    "        ).mean()"
   ]
  },
  {
   "cell_type": "code",
   "execution_count": 114,
   "id": "0bd7b08d",
   "metadata": {},
   "outputs": [
    {
     "data": {
      "text/plain": [
       "0.003541692918885616"
      ]
     },
     "execution_count": 114,
     "metadata": {},
     "output_type": "execute_result"
    }
   ],
   "source": [
    "calc_precision('prediction_user_based')"
   ]
  },
  {
   "cell_type": "markdown",
   "id": "f790a618",
   "metadata": {},
   "source": [
    "Реализуем рекомендательную систему с использованием SVD. Разложим матрицу взаимодействий пользователей со статьями с помощью функции svd из модуля scipy."
   ]
  },
  {
   "cell_type": "code",
   "execution_count": 115,
   "id": "b0c12c72",
   "metadata": {},
   "outputs": [],
   "source": [
    "from scipy.linalg import svd\n",
    "\n",
    "U, sigma, V = svd(ratings)"
   ]
  },
  {
   "cell_type": "markdown",
   "id": "c2d9dcef",
   "metadata": {},
   "source": [
    "Найдите максимальное значение в получившейся матрице U."
   ]
  },
  {
   "cell_type": "code",
   "execution_count": 116,
   "id": "219202b6",
   "metadata": {},
   "outputs": [
    {
     "data": {
      "text/plain": [
       "0.7071067811865486"
      ]
     },
     "execution_count": 116,
     "metadata": {},
     "output_type": "execute_result"
    }
   ],
   "source": [
    "U.max()"
   ]
  },
  {
   "cell_type": "markdown",
   "id": "a5c92c00",
   "metadata": {},
   "source": [
    "Значения матрицы с сингулярными числами отсортированы по убыванию. Допустим, мы хотим оставить только первые 100 компонент и получить скрытые представления размерности 100. Для этого необходимо оставить 100 столбцов в матрице U, только первые 100 значений из sigma (и сделать из них диагональную матрицу) и 100 столбцов в матрице V. Затем необходимо перемножить преобразованные матрицы."
   ]
  },
  {
   "cell_type": "markdown",
   "id": "31afe661",
   "metadata": {},
   "source": [
    "Найдите сумму всех элементов в новой сингулярной матрице."
   ]
  },
  {
   "cell_type": "code",
   "execution_count": 117,
   "id": "f30b8883",
   "metadata": {},
   "outputs": [
    {
     "data": {
      "text/plain": [
       "2096.53"
      ]
     },
     "execution_count": 117,
     "metadata": {},
     "output_type": "execute_result"
    }
   ],
   "source": [
    "k = 100\n",
    "s = sigma[:k]\n",
    "U = U[:, 0:k]\n",
    "V = V[0:k, :]\n",
    "s = np.diag(s)\n",
    "round(s.sum(), 2)"
   ]
  },
  {
   "cell_type": "code",
   "execution_count": 118,
   "id": "36e620a1",
   "metadata": {},
   "outputs": [
    {
     "name": "stdout",
     "output_type": "stream",
     "text": [
      "(1112, 100)\n",
      "(100, 100)\n",
      "(100, 2366)\n"
     ]
    }
   ],
   "source": [
    "print(U.shape)\n",
    "print(s.shape)\n",
    "print(V.shape)"
   ]
  },
  {
   "attachments": {},
   "cell_type": "markdown",
   "id": "fe0149ec",
   "metadata": {},
   "source": [
    "Cделаем предсказание по полученной матрице. Найдем для каждого пользователя статьи с наибольшими оценками в восстановленной матрице."
   ]
  },
  {
   "cell_type": "code",
   "execution_count": 119,
   "id": "b0566148",
   "metadata": {},
   "outputs": [],
   "source": [
    "new_ratings = U.dot(s).dot(V)\n",
    "new_ratings = pd.DataFrame(new_ratings, index=ratings.index, columns=ratings.columns)\n",
    "top_k = 10\n",
    "predictions = []"
   ]
  },
  {
   "cell_type": "code",
   "execution_count": 120,
   "id": "e2e95714",
   "metadata": {},
   "outputs": [
    {
     "data": {
      "text/plain": [
       "0.012212989310270756"
      ]
     },
     "execution_count": 120,
     "metadata": {},
     "output_type": "execute_result"
    }
   ],
   "source": [
    "for personId in interactions_df.index:\n",
    "    prediction = (\n",
    "        new_ratings\n",
    "        .loc[personId]\n",
    "        .sort_values(ascending=False)\n",
    "        .index.values\n",
    "    )\n",
    "    \n",
    "    predictions.append(\n",
    "        list(prediction[~np.in1d(\n",
    "            prediction,\n",
    "            interactions_df.loc[personId, 'true_train'])])[:top_k])\n",
    "\n",
    "interactions_df['prediction_svd'] = predictions\n",
    "\n",
    "calc_precision('prediction_svd')"
   ]
  },
  {
   "cell_type": "markdown",
   "id": "bbf0b1c4",
   "metadata": {},
   "source": [
    "Реализуем на гибридную модель и посмотрим, какое качество получится. Для этого воспользуемся библиотекой LightFM."
   ]
  },
  {
   "cell_type": "code",
   "execution_count": 122,
   "id": "67aa17ee",
   "metadata": {},
   "outputs": [
    {
     "name": "stdout",
     "output_type": "stream",
     "text": [
      "0.03764706\n"
     ]
    }
   ],
   "source": [
    "from lightfm import LightFM\n",
    "from lightfm.cross_validation import random_train_test_split\n",
    "from lightfm.evaluation import precision_at_k\n",
    "from scipy.sparse import csr_matrix\n",
    "\n",
    "ratings_matrix = csr_matrix((ratings))\n",
    "\n",
    "model = LightFM(loss='warp', #определяем функцию потерь\n",
    "                random_state=13, #фиксируем случайное разбиение\n",
    "                learning_rate=0.05, #темп обучения\n",
    "                no_components=100) #размерность вектора для представления данных в модели\n",
    "\n",
    "train,test = random_train_test_split(ratings_matrix, test_percentage=0.3, random_state=13)\n",
    "model = model.fit(train)\n",
    "prec_score = precision_at_k(model, test).mean()\n",
    "\n",
    "print(prec_score)"
   ]
  }
 ],
 "metadata": {
  "kernelspec": {
   "display_name": "Python 3.9.7 64-bit",
   "language": "python",
   "name": "python3"
  },
  "language_info": {
   "codemirror_mode": {
    "name": "ipython",
    "version": 3
   },
   "file_extension": ".py",
   "mimetype": "text/x-python",
   "name": "python",
   "nbconvert_exporter": "python",
   "pygments_lexer": "ipython3",
   "version": "3.9.7"
  },
  "vscode": {
   "interpreter": {
    "hash": "68ff218c3fce8aa55493ff7fb816b7bc158a2564f4b9f75d1461580e12c75fb0"
   }
  }
 },
 "nbformat": 4,
 "nbformat_minor": 5
}
